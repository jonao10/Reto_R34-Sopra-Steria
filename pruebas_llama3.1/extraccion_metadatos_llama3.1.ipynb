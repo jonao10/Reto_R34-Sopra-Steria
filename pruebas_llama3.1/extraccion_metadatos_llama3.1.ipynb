{
 "cells": [
  {
   "cell_type": "markdown",
   "id": "8658585f",
   "metadata": {},
   "source": [
    "## Extraer metadatos de archivo csv usando LLAMA3.1"
   ]
  },
  {
   "cell_type": "code",
   "execution_count": null,
   "id": "107d694c",
   "metadata": {},
   "outputs": [],
   "source": [
    "# Se ha instalado Ollama en local y se ha descargado el modelo LLAMA3.1 --> https://ollama.com/ (>> ollama run llama3.1)\n",
    "# !pip install langchain"
   ]
  },
  {
   "cell_type": "markdown",
   "id": "2e39741a",
   "metadata": {},
   "source": [
    "Creamos una función que extrae los metadatos técnicos y funcionales de un texto usando un LLM (en este caso LLAMA3.1)."
   ]
  },
  {
   "cell_type": "code",
   "execution_count": 2,
   "id": "42a2e8b0",
   "metadata": {},
   "outputs": [],
   "source": [
    "from langchain_ollama import ChatOllama\n",
    "from langchain_core.prompts import ChatPromptTemplate\n",
    "\n",
    "def extract_metadata(document_content,user_template):\n",
    "    llm = ChatOllama(model=\"llama3.1\",temperature=0)\n",
    "    \n",
    "    prompt_template = ChatPromptTemplate(messages=[\n",
    "        (\"user\",user_template)\n",
    "    ]\n",
    "    )\n",
    "    prompt = prompt_template.invoke([{\"texto\":document_content}])\n",
    "\n",
    "    response = llm.invoke(prompt)\n",
    "    response_print = print(response.content)\n",
    "    return response_print"
   ]
  },
  {
   "cell_type": "markdown",
   "id": "a9bc389e",
   "metadata": {},
   "source": [
    "Definimos 2 templates para probar el funcionamiento. En el primero de ellos se pide una extracción de los metadatos técnicos y funcionales del texto, como indicamos anteriormente. Por otro lado, el segundo template lo creamos para probar el funcionamiento de las consultas del dataset, para ver si es capaz de encontrar el cliente con el saldo mayor (por ejemplo)."
   ]
  },
  {
   "cell_type": "code",
   "execution_count": 61,
   "id": "9cf351f7",
   "metadata": {},
   "outputs": [],
   "source": [
    "user_template1 = \"\"\"\\\n",
    "#Extraer metadatos técnicos y funcionales del siguiente documento.\n",
    "#Documento:{texto}\n",
    "#Respuesta estructurada en dos apartados:\n",
    "    *Metadatos técnicos\n",
    "    *Metadatos funcionales\n",
    "\n",
    "\"\"\"\n",
    "user_template2 = \"¿Quién es el cliente con mayor saldo? Solamente indica el id_cliente y su información en formato de tabla, no añadas explicaciones. Texto:{texto}\""
   ]
  },
  {
   "cell_type": "markdown",
   "id": "191f8716",
   "metadata": {},
   "source": [
    "En primera instancia, usamos CSVLoader para cargar un archivo csv y convertir cada instancia en un documento. Esto no es lo que queremos realizar todavía, pero nos sirve para crear embeddings de cada documento y montar una base de datos de vectores para usarla con un sistema RAG."
   ]
  },
  {
   "cell_type": "code",
   "execution_count": 4,
   "id": "f90103ac",
   "metadata": {},
   "outputs": [],
   "source": [
    "# !pip install langchain_community"
   ]
  },
  {
   "cell_type": "code",
   "execution_count": null,
   "id": "8ea4dcea",
   "metadata": {},
   "outputs": [],
   "source": [
    "from langchain_community.document_loaders.csv_loader import CSVLoader\n",
    "\n",
    "loader = CSVLoader('datos_prueba.csv')\n",
    "document = loader.load()\n",
    "for doc in document[:1]: #Prueba del funcionamiento, se llama al modelo en cada iteración (ideal para crear embeddings de cada instancia del dataset)\n",
    "    extract_metadata(doc.page_content,user_template1)"
   ]
  },
  {
   "cell_type": "markdown",
   "id": "99e6aef7",
   "metadata": {},
   "source": [
    "En esta primera fase, lo que queremos es extraer los metadatos técnicos y funcionales de un dataset. Para ello, utilizaremos la librería pandas, con la que haremos la ingesta del archivo (un csv de momento) y prepararemos la información necesaria para pasársela al LLM. Como primera aproximación, convertiremos el dataset en un string, que pasaremos al modelo, para ver el comportamiento del mismo. Más adelante, se podrían realizar transformaciones más estructuradas, como por ejemplo, convertir a json y posteriormente a string.\n",
    "A modo de prueba, solamente tomaremos 25 instancias del dataset."
   ]
  },
  {
   "cell_type": "code",
   "execution_count": 32,
   "id": "33b98ba6",
   "metadata": {},
   "outputs": [
    {
     "name": "stdout",
     "output_type": "stream",
     "text": [
      "    id_cliente          nombre                 email       telefono        dni fecha_nacimiento    saldo\n",
      "0         1001     María López      ana8@dominio.com  +34 620526944  14315522O       1977-07-28  5385.31\n",
      "1         1002    Laura Torres   maría20@outlook.com  +34 610417643  16899804I       1961-11-21  2678.78\n",
      "2         1003   Pedro Sánchez   pedro79@dominio.com  +34 610897848  98233516E       1997-09-13  4842.24\n",
      "3         1004  Luis Fernández  sergio48@empresa.org  +34 610626959  18282590K       1961-07-26   783.21\n",
      "4         1005     María López     pedro87@yahoo.com  +34 630193110  94877483O       1980-02-24  6778.78\n",
      "5         1006   Elena Ramírez   marta49@outlook.com  +34 600144425  65994640K       2002-09-19   516.32\n",
      "6         1007       Ana Gómez   marta34@dominio.com  +34 640955695  62142091L       1989-10-14  3724.59\n",
      "7         1008       Ana Gómez   clara41@outlook.com  +34 630332580  55383009W       2004-05-16  7989.58\n",
      "8         1009    Sergio Vidal     laura22@gmail.com  +34 610711722  96689897M       1973-12-20  2216.29\n",
      "9         1010  Luis Fernández     laura14@gmail.com  +34 610972033  80876935Q       1966-10-23  2810.57\n",
      "10        1011   Pedro Sánchez    juan14@outlook.com  +34 610440961  51516389D       1994-06-28  2284.68\n",
      "11        1012       Ana Gómez     maría86@yahoo.com  +34 630639362  40588490Q       2004-07-08  3907.36\n",
      "12        1013  Luis Fernández      juan22@gmail.com  +34 600128140  87449516L       1986-09-22  5249.76\n",
      "13        1014     Clara Núñez     maría94@yahoo.com  +34 610152819  69490304X       1986-06-11  1449.27\n",
      "14        1015    Laura Torres     ana24@dominio.com  +34 610565529  67103973X       1994-08-26  9849.42\n",
      "15        1016   Elena Ramírez    carlos12@yahoo.com  +34 630460730  31794806L       1996-02-23  1577.38\n",
      "16        1017    Marta Ortega   laura28@outlook.com  +34 600728134  40674126L       1984-10-08  9230.00\n",
      "17        1018  Luis Fernández      juan66@yahoo.com  +34 610852830  12370485E       1984-09-10  4131.76\n",
      "18        1019     María López      luis51@yahoo.com  +34 620379545  79047440I       2005-11-24  6963.75\n",
      "19        1020      Juan Pérez   maría85@outlook.com  +34 600776948  89292665L       1967-08-24  6881.80\n",
      "20        1021     María López    carlos25@yahoo.com  +34 640258825  67294728E       1975-09-07  1749.22\n",
      "21        1022       Ana Gómez   marta15@dominio.com  +34 610871899  87849358N       1988-01-08  4593.07\n",
      "22        1023  Luis Fernández      josé13@yahoo.com  +34 630288071  41950110D       2002-11-01  3617.19\n",
      "23        1024     María López    josé34@outlook.com  +34 640163283  29276507A       1979-02-21  1065.06\n",
      "24        1025    Sergio Vidal    carlos11@yahoo.com  +34 610617063  83587571E       1991-07-01  6607.98\n"
     ]
    }
   ],
   "source": [
    "import pandas as pd\n",
    "df = pd.read_csv('datos_prueba.csv')\n",
    "df_25=df.head(25)\n",
    "df_string = df_25.to_string()\n",
    "print(df_string)"
   ]
  },
  {
   "cell_type": "markdown",
   "id": "ae1f10c3",
   "metadata": {},
   "source": [
    "Visualizamos la respuesta del LLM al primer prompt. En este caso, podemos observar que nos da una estructura de los metadatos técnicos y funcionales del dataset bastante correcta. "
   ]
  },
  {
   "cell_type": "code",
   "execution_count": 46,
   "id": "c801d1d5",
   "metadata": {},
   "outputs": [
    {
     "name": "stdout",
     "output_type": "stream",
     "text": [
      "**Metadatos técnicos**\n",
      "\n",
      "* **Tipo de datos**: La respuesta es un documento JSON que contiene una lista de diccionarios.\n",
      "* **Estructura del documento**: Cada diccionario tiene las siguientes claves:\n",
      " + `id_cliente`: identificador único del cliente\n",
      " + `nombre`: nombre del cliente\n",
      " + `email`: dirección de correo electrónico del cliente\n",
      " + `telefono`: número de teléfono del cliente\n",
      " + `dni`: número de identificación del cliente (DNI)\n",
      " + `fecha_nacimiento`: fecha de nacimiento del cliente\n",
      " + `saldo`: saldo actual del cliente\n",
      "* **Características técnicas**:\n",
      " + El documento tiene 25 filas y 8 columnas.\n",
      " + Los datos están almacenados en formato texto, con un separador de columnas no especificado (posiblemente sea tabulación o coma).\n",
      " + No hay información sobre la base de datos o el sistema de gestión de bases de datos utilizado.\n",
      "\n",
      "**Metadatos funcionales**\n",
      "\n",
      "* **Descripción del contenido**: El documento contiene una lista de clientes con sus respectivas características, incluyendo identificador único, nombre, dirección de correo electrónico, número de teléfono, DNI, fecha de nacimiento y saldo actual.\n",
      "* **Propósito del documento**: Posiblemente sea utilizado para almacenar y consultar la información de los clientes en un sistema de gestión de relaciones con los clientes (CRM).\n",
      "* **Funcionalidades esperadas**:\n",
      " + Consultar la lista completa de clientes\n",
      " + Buscar clientes por identificador único, nombre o dirección de correo electrónico\n",
      " + Actualizar la información de un cliente\n",
      " + Eliminar un cliente\n"
     ]
    }
   ],
   "source": [
    "# Uso del primer template\n",
    "extract_metadata(df_string,user_template1)"
   ]
  },
  {
   "cell_type": "markdown",
   "id": "bfbb98a0",
   "metadata": {},
   "source": [
    "Ahora utilizamos el segundo prompt, para ver si el modelo es capaz de encontrar al cliente con el saldo mayor."
   ]
  },
  {
   "cell_type": "code",
   "execution_count": 37,
   "id": "929bcefe",
   "metadata": {},
   "outputs": [
    {
     "name": "stdout",
     "output_type": "stream",
     "text": [
      "| id_cliente | nombre         | email                | telefono          | dni      | fecha_nacimiento | saldo |\n",
      "|------------|----------------|----------------------|--------------------|----------|------------------|-------|\n",
      "| 1008       | Ana Gómez     | clara41@outlook.com  | +34 630332580    | 55383009| 2004-05-16      | 7989.58|\n"
     ]
    }
   ],
   "source": [
    "# Uso del segundo template\n",
    "extract_metadata(df_string,user_template2)"
   ]
  },
  {
   "cell_type": "markdown",
   "id": "59ee5f4b",
   "metadata": {},
   "source": [
    "Comprobamos si es correcto lo que ha dicho el LLM. Podemos observar que se ha equivocado, ya que el id_cliente con mayor saldo es el 1015, no el 1008."
   ]
  },
  {
   "cell_type": "code",
   "execution_count": null,
   "id": "3b479c89",
   "metadata": {},
   "outputs": [
    {
     "name": "stdout",
     "output_type": "stream",
     "text": [
      "id_cliente                       1015\n",
      "nombre                   Laura Torres\n",
      "email               ana24@dominio.com\n",
      "telefono                +34 610565529\n",
      "dni                         67103973X\n",
      "fecha_nacimiento           1994-08-26\n",
      "saldo                         9849.42\n",
      "Name: 14, dtype: object\n"
     ]
    }
   ],
   "source": [
    "df_sorted = df_25.sort_values(by='saldo', ascending=False)\n",
    "\n",
    "cliente_con_mayor_saldo = df_sorted.iloc[0]\n",
    "\n",
    "# Mostrar la información del cliente con mayor saldo\n",
    "print(cliente_con_mayor_saldo)"
   ]
  },
  {
   "cell_type": "markdown",
   "id": "c5631863",
   "metadata": {},
   "source": [
    "Como podemos observar en las iteraciones anteriores, si le pasamos al modelo 25 instancias del dataset (porque todo el dataset se demora mucho ya que son 1000 instancias) y le preguntamos por el cliente con mayor saldo nos da el id_cliente 1008, el cual si lo comparamos con la consulta con pandas, es incorrecto. El modelo no realiza operaciones numéricas reales; solo interpreta texto. Por eso, aunque vea los números en un JSON o CSV, no los compara con precisión como lo haría un programa. Solo aparenta razonar, pero no calcula. En estos casos, lo ideal sería crear un agente que tenga alguna herramienta relacionada con ejecución de código.\n"
   ]
  },
  {
   "cell_type": "markdown",
   "id": "80ed2a91",
   "metadata": {},
   "source": [
    "Recomiendo mirar la documentación oficial de LangChain porque han habido cambios en la nueva versión (langchain v0.3) --> https://python.langchain.com/docs/introduction/"
   ]
  }
 ],
 "metadata": {
  "kernelspec": {
   "display_name": "chatbot_venv",
   "language": "python",
   "name": "python3"
  },
  "language_info": {
   "codemirror_mode": {
    "name": "ipython",
    "version": 3
   },
   "file_extension": ".py",
   "mimetype": "text/x-python",
   "name": "python",
   "nbconvert_exporter": "python",
   "pygments_lexer": "ipython3",
   "version": "3.12.7"
  }
 },
 "nbformat": 4,
 "nbformat_minor": 5
}
